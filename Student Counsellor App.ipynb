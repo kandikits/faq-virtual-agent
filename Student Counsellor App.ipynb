{
 "cells": [
  {
   "cell_type": "markdown",
   "id": "9010df09",
   "metadata": {},
   "source": [
    "###  Student Counsellor App"
   ]
  },
  {
   "cell_type": "markdown",
   "id": "1fd7c931",
   "metadata": {},
   "source": [
    "Student Counsellor App is based on a Virtual Assistant that understands the questions asked by students with the help of state-of-the-art Natual Language Processing techniques."
   ]
  },
  {
   "cell_type": "markdown",
   "id": "3de436fb",
   "metadata": {},
   "source": [
    "#### Variable"
   ]
  },
  {
   "cell_type": "code",
   "execution_count": null,
   "id": "ac170aac",
   "metadata": {},
   "outputs": [],
   "source": [
    "INPUT_FAQ_PATH=r\"faqs.csv\""
   ]
  },
  {
   "cell_type": "markdown",
   "id": "b23df747",
   "metadata": {},
   "source": [
    "Execute below cell to run the app"
   ]
  },
  {
   "cell_type": "code",
   "execution_count": null,
   "id": "201ed609",
   "metadata": {},
   "outputs": [],
   "source": [
    "from virtual_agent import VAModel"
   ]
  },
  {
   "cell_type": "code",
   "execution_count": null,
   "id": "742b2906",
   "metadata": {
    "scrolled": true
   },
   "outputs": [],
   "source": [
    "va_model = VAModel(INPUT_FAQ_PATH)\n",
    "va_model.train()\n",
    "va_model.run_app()"
   ]
  },
  {
   "cell_type": "code",
   "execution_count": null,
   "id": "32610f84",
   "metadata": {},
   "outputs": [],
   "source": []
  }
 ],
 "metadata": {
  "kernelspec": {
   "display_name": "Python 3 (ipykernel)",
   "language": "python",
   "name": "python3"
  },
  "language_info": {
   "codemirror_mode": {
    "name": "ipython",
    "version": 3
   },
   "file_extension": ".py",
   "mimetype": "text/x-python",
   "name": "python",
   "nbconvert_exporter": "python",
   "pygments_lexer": "ipython3",
   "version": "3.9.6"
  }
 },
 "nbformat": 4,
 "nbformat_minor": 5
}
